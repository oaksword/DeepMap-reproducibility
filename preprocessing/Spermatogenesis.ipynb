{
 "cells": [
  {
   "cell_type": "markdown",
   "id": "b1a6d79f-3706-4094-964b-8fff95899657",
   "metadata": {},
   "source": [
    "# Download\n",
    "\n",
    "- Human dataset GSE142585\n",
    "\n",
    "- Macaque dataset GSE142585\n",
    "\n",
    "- Mouse dataset https://www.ebi.ac.uk/arrayexpress/experiments/E-MTAB-6946/\n",
    "\n",
    "Supplementary files \"orthologues_human_mouse.txt\", \"orthologues_human_macaque.txt\" and \"preprocess_spermatogenesis.R\"\n",
    "\n",
    "# Preprocess"
   ]
  },
  {
   "cell_type": "code",
   "execution_count": 6,
   "id": "91549e4a-bf82-4625-9b66-8ba3de63f126",
   "metadata": {},
   "outputs": [],
   "source": [
    "import rpy2.robjects as ro\n",
    "import rpy2.robjects.numpy2ri\n",
    "import anndata2ri\n",
    "import numpy as np\n",
    "import pandas as pd\n",
    "import anndata\n",
    "import os\n",
    "import scanpy as sc"
   ]
  },
  {
   "cell_type": "code",
   "execution_count": 7,
   "id": "5a12f0bf-0206-4126-85f5-19c5f31bb64b",
   "metadata": {},
   "outputs": [
    {
     "name": "stderr",
     "output_type": "stream",
     "text": [
      "... storing 'celltype' as categorical\n",
      "... storing 'batch' as categorical\n"
     ]
    },
    {
     "name": "stdout",
     "output_type": "stream",
     "text": [
      "11922\n",
      "11922\n",
      "11922\n"
     ]
    },
    {
     "name": "stderr",
     "output_type": "stream",
     "text": [
      "... storing 'celltype' as categorical\n",
      "... storing 'batch' as categorical\n",
      "... storing 'celltype' as categorical\n",
      "... storing 'batch' as categorical\n",
      "... storing 'batch' as categorical\n",
      "... storing 'batch' as categorical\n"
     ]
    }
   ],
   "source": [
    "ro.r['library'](\"Seurat\")\n",
    "\n",
    "ro.r('''load(\"../datasets/raw/Spermatogenesis/obj_human_sharedgenes.RData\")''') # obj_human\n",
    "ro.r('''load(\"../datasets/raw/Spermatogenesis/obj_mouse_sharedgenes.RData\")''') # obj_mouse\n",
    "ro.r('''load(\"../datasets/raw/Spermatogenesis/obj_macaque_sharedgenes.RData\")''') # obj_macaque\n",
    "\n",
    "\n",
    "ro.r('''cnts_human <- obj_human[[\"RNA\"]]@counts''')\n",
    "counts_human = np.array(ro.r(\"as.matrix(cnts_human)\"))\n",
    "genes_human = list(ro.r(\"as.vector(rownames(cnts_human))\"))\n",
    "cells_human = list(ro.r(\"as.vector(colnames(cnts_human))\"))\n",
    "\n",
    "\n",
    "ro.r('''cnts_mouse <- obj_mouse[[\"RNA\"]]@counts''')\n",
    "ro.r(\"cell_type <- as.vector(obj_mouse$cell_type)\")\n",
    "counts_mouse = np.array(ro.r('''as.matrix(cnts_mouse)'''))\n",
    "genes_mouse = list(ro.r(\"as.vector(rownames(cnts_mouse))\"))\n",
    "cells_mouse = list(ro.r(\"as.vector(colnames(cnts_mouse))\"))\n",
    "cell_type_mouse = list(ro.r(\"as.vector(cell_type)\"))\n",
    "\n",
    "\n",
    "ro.r('''cnts_macaque <- obj_macaque[[\"RNA\"]]@counts''')\n",
    "counts_macaque = np.array(ro.r('''as.matrix(cnts_macaque)'''))\n",
    "genes_macaque = list(ro.r(\"as.vector(rownames(cnts_macaque))\"))\n",
    "cells_macaque = list(ro.r(\"as.vector(colnames(cnts_macaque))\"))\n",
    "\n",
    "\n",
    "adata_human = anndata.AnnData(counts_human.T)\n",
    "adata_human.obs.index = cells_human\n",
    "adata_human.var.index = genes_human\n",
    "adata_mouse = anndata.AnnData(counts_mouse.T)\n",
    "adata_mouse.obs.index = cells_mouse\n",
    "adata_mouse.var.index = genes_mouse\n",
    "adata_macaque = anndata.AnnData(counts_macaque.T)\n",
    "adata_macaque.obs.index = cells_macaque\n",
    "adata_macaque.var.index = genes_macaque\n",
    "\n",
    "ro.r('''anno_human <- read.table(\"../datasets/raw/Spermatogenesis/human/GSE142585_MergedHumanTestis4_PerCellAttributes.txt\")''')\n",
    "ro.r('''write.csv(anno_human, file=\"../datasets/raw/Spermatogenesis/create_GSE142585_MergedHumanTestis4_PerCellAttributes.csv\")''')\n",
    "cell_type_human_ref = pd.read_csv(\"../datasets/raw/Spermatogenesis/create_GSE142585_MergedHumanTestis4_PerCellAttributes.csv\", index_col=0)\n",
    "cell_type_human_ref = cell_type_human_ref.loc[list(adata_human.obs.index)]\n",
    "\n",
    "ro.r('''anno_macaque <- read.table(\"../datasets/raw/Spermatogenesis/macaque/GSE142585_MergedMonkeyTestis5_PerCellAttributes.txt\")''')\n",
    "ro.r('''write.csv(anno_macaque, file=\"../datasets/raw/Spermatogenesis/create_GSE142585_MergedMonkeyTestis5_PerCellAttributes.csv\")''')\n",
    "cell_type_macaque_ref = pd.read_csv(\"../datasets/raw/Spermatogenesis/create_GSE142585_MergedMonkeyTestis5_PerCellAttributes.csv\", index_col=0)\n",
    "cell_type_macaque_ref = cell_type_macaque_ref.loc[list(adata_macaque.obs.index)]\n",
    "\n",
    "cell_type_mouse = pd.read_csv(\"../datasets/raw/Spermatogenesis/mouseP30-anno.csv\", index_col=\"barcode\")\n",
    "\n",
    "adata_human.obs[\"celltype\"] = cell_type_human_ref[\"CellType\"].values\n",
    "adata_human.obs[\"batch\"] = \"human\"\n",
    "adata_mouse.obs[\"celltype\"] = cell_type_mouse[\"cell_type_new\"].values\n",
    "adata_mouse.obs[\"batch\"] = \"mouse\"\n",
    "adata_macaque.obs[\"celltype\"] = cell_type_macaque_ref[\"CellType\"].values\n",
    "adata_macaque.obs[\"batch\"] = \"macaque\"\n",
    "\n",
    "data_path = \"../datasets/preprocessed/\"\n",
    "\n",
    "if not os.path.exists(data_path):\n",
    "    \n",
    "    os.makedirs(data_path)\n",
    "\n",
    "adata_human.obs.index = adata_human.obs.index + \"_human\"\n",
    "adata_mouse.obs.index = adata_mouse.obs.index + \"_mouse\"\n",
    "adata_macaque.obs.index = adata_macaque.obs.index + \"_macaque\"\n",
    "\n",
    "print(len(set(adata_human.var.index) & set(adata_mouse.var.index)))\n",
    "print(len(set(adata_human.var.index) & set(adata_macaque.var.index)))\n",
    "print(len(set(adata_mouse.var.index) & set(adata_macaque.var.index)))\n",
    "\n",
    "adata_human.write(filename=os.path.join(data_path, \"Spermatogenesis_human.h5ad\"))\n",
    "adata_mouse.write(filename=os.path.join(data_path, \"Spermatogenesis_mouse.h5ad\"))\n",
    "adata_macaque.write(filename=os.path.join(data_path, \"Spermatogenesis_macaque.h5ad\"))\n",
    "\n",
    "adata_human_macaque = sc.concat((adata_human, adata_macaque))\n",
    "adata_human_macaque.write(filename=os.path.join(data_path, \"Spermatogenesis_human_macaque.h5ad\"))\n",
    "\n",
    "adata_full = sc.concat((adata_human, adata_mouse, adata_macaque))\n",
    "adata_full.write(filename=os.path.join(data_path, \"Spermatogenesis_human_macaque_mouse.h5ad\"))"
   ]
  },
  {
   "cell_type": "code",
   "execution_count": 3,
   "id": "881723f3-b741-479a-8393-71ed216aa2de",
   "metadata": {},
   "outputs": [],
   "source": [
    "# Run the following code in R to convert h5ad to h5seurat which Seurat handles\n",
    "# Check current directory first\n",
    "# library(SeuratDisk)\n",
    "# Convert('Spermatogenesis_human_macaque.h5ad', 'h5seurat')\n",
    "# Convert('Spermatogenesis_human_macaque_mouse.h5ad', 'h5seurat')"
   ]
  }
 ],
 "metadata": {
  "kernelspec": {
   "display_name": "Python 3",
   "language": "python",
   "name": "python3"
  },
  "language_info": {
   "codemirror_mode": {
    "name": "ipython",
    "version": 3
   },
   "file_extension": ".py",
   "mimetype": "text/x-python",
   "name": "python",
   "nbconvert_exporter": "python",
   "pygments_lexer": "ipython3",
   "version": "3.8.8"
  }
 },
 "nbformat": 4,
 "nbformat_minor": 5
}
