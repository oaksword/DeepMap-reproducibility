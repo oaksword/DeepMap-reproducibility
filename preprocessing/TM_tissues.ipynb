{
 "cells": [
  {
   "cell_type": "markdown",
   "id": "9f6cc73b-b756-400d-80fa-d1de3aa24b14",
   "metadata": {},
   "source": [
    "# Download\n",
    "\n",
    "The raw datasets are available for download from \n",
    "\n",
    "https://figshare.com/projects/Tabula_Muris_Transcriptomic_characterization_of_20_organs_and_tissues_from_Mus_musculus_at_single_cell_resolution/27733 \n",
    "\n",
    "10X Single-cell RNA-seq data from microfluidic emulsion (v2)\n",
    "\n",
    "SS2 Single-cell RNA-seq data from Smart-seq2 sequencing of FACS sorted cells (v2)\n",
    "\n",
    "# Preprocess"
   ]
  },
  {
   "cell_type": "code",
   "execution_count": 1,
   "id": "fd26274c-0665-4583-a3c8-246c3c8a26c5",
   "metadata": {},
   "outputs": [],
   "source": [
    "import os\n",
    "import numpy as np\n",
    "import pandas as pd\n",
    "import scanpy as sc"
   ]
  },
  {
   "cell_type": "code",
   "execution_count": 2,
   "id": "2e15976e-dce9-4763-b3a2-fa5b973b5cd4",
   "metadata": {},
   "outputs": [
    {
     "name": "stderr",
     "output_type": "stream",
     "text": [
      "... storing 'celltype' as categorical\n",
      "... storing 'batch' as categorical\n",
      "... storing 'celltype' as categorical\n",
      "... storing 'batch' as categorical\n",
      "... storing 'celltype' as categorical\n",
      "... storing 'batch' as categorical\n",
      "... storing 'celltype' as categorical\n",
      "... storing 'batch' as categorical\n",
      "... storing 'celltype' as categorical\n",
      "... storing 'batch' as categorical\n",
      "... storing 'celltype' as categorical\n",
      "... storing 'batch' as categorical\n",
      "... storing 'celltype' as categorical\n",
      "... storing 'batch' as categorical\n",
      "... storing 'celltype' as categorical\n",
      "... storing 'batch' as categorical\n",
      "... storing 'celltype' as categorical\n",
      "... storing 'batch' as categorical\n",
      "... storing 'celltype' as categorical\n",
      "... storing 'batch' as categorical\n",
      "... storing 'celltype' as categorical\n",
      "... storing 'batch' as categorical\n"
     ]
    }
   ],
   "source": [
    "tissues = ['Bladder', 'Kidney', 'Limb_Muscle', 'Liver', 'Lung', 'Mammary_Gland', 'Marrow', \n",
    "           'Spleen', 'Thymus', 'Tongue', 'Trachea']\n",
    "\n",
    "for tissue in tissues:\n",
    "    \n",
    "    data_path = '../datasets/preprocessed/'\n",
    "\n",
    "    if not os.path.exists(data_path):\n",
    "\n",
    "        os.makedirs(data_path)\n",
    "\n",
    "    path_SS2 = '../datasets/raw/Tabula_Muris/FACS/'\n",
    "    path_10X = '../datasets/raw/Tabula_Muris/droplet/'\n",
    "\n",
    "    meta_SS2 = pd.read_csv('../datasets/raw/Tabula_Muris/annotations_facs.csv', keep_default_na = False)\n",
    "    meta_10X = pd.read_csv('../datasets/raw/Tabula_Muris/annotations_droplet.csv', keep_default_na = False)\n",
    "\n",
    "    # Read SS2 cell-by-gene counts\n",
    "    adata_SS2 = sc.read_csv(os.path.join(path_SS2, \"%s-counts.csv\" % tissue)).transpose()\n",
    "    ERCC_idx = pd.Series(adata_SS2.var.index).str.startswith('ERCC')\n",
    "    cell_idx = adata_SS2.obs.index.isin(meta_SS2[(meta_SS2.cell_ontology_class != 0) & \n",
    "                                                 (meta_SS2.cell_ontology_class != '')].cell)\n",
    "    adata_SS2 = adata_SS2[cell_idx, -ERCC_idx]\n",
    "\n",
    "    # Read 10X cell-by-gene counts\n",
    "    channels = sorted(set(meta_10X[meta_10X.tissue == tissue].channel))\n",
    "\n",
    "    for i, channel in enumerate(channels):\n",
    "\n",
    "        if i == 0:\n",
    "\n",
    "            adata_10X = sc.read_10x_mtx(path_10X + '/%s-%s/' % (tissue, channel), \n",
    "                                        var_names = 'gene_symbols', cache = False)\n",
    "            adata_10X.obs.index = channel + \"_\" + adata_10X.obs.index\n",
    "            adata_10X.obs.index = adata_10X.obs.index.map(lambda x: x[:-2])\n",
    "            cell_idx = adata_10X.obs.index.isin(meta_10X[(meta_10X.cell_ontology_class != 0) &\n",
    "                                                         (meta_10X.cell_ontology_class != '')].cell)\n",
    "            adata_10X = adata_10X[cell_idx, :]\n",
    "\n",
    "        else:\n",
    "\n",
    "            tmp = sc.read_10x_mtx(path_10X + '/%s-%s/' % (tissue, channel), \n",
    "                                  var_names = 'gene_symbols', cache = False)\n",
    "            tmp.obs.index = channel + \"_\" + tmp.obs.index\n",
    "            tmp.obs.index = tmp.obs.index.map(lambda x: x[:-2])\n",
    "            cell_idx = tmp.obs.index.isin(meta_10X[(meta_10X.cell_ontology_class != 0) &\n",
    "                                                   (meta_10X.cell_ontology_class != '')].cell)\n",
    "            adata_10X = adata_10X.concatenate(tmp[cell_idx, :], index_unique = None)\n",
    "\n",
    "    meta_SS2 = meta_SS2[meta_SS2.cell.isin(adata_SS2.obs.index)][['cell', 'cell_ontology_class']].set_index('cell')\n",
    "    meta_SS2['batch'] = 'SS2'\n",
    "    meta_SS2 = meta_SS2.rename(columns = {'cell_ontology_class': 'celltype'})\n",
    "    adata_SS2.obs = meta_SS2.loc[adata_SS2.obs.index]\n",
    "\n",
    "    meta_10X = meta_10X[meta_10X.cell.isin(adata_10X.obs.index)][['cell', 'cell_ontology_class']].set_index('cell')\n",
    "    meta_10X['batch'] = '10X'\n",
    "    meta_10X = meta_10X.rename(columns = {'cell_ontology_class': 'celltype'})\n",
    "    adata_10X.obs = meta_10X.loc[adata_10X.obs.index]\n",
    "\n",
    "    sc.concat((adata_SS2, adata_10X)).write(os.path.join(data_path, 'TM_{}.h5ad'.format(tissue)))"
   ]
  },
  {
   "cell_type": "code",
   "execution_count": null,
   "id": "f86bf9a8-7677-4164-8058-2571f980f13b",
   "metadata": {},
   "outputs": [],
   "source": [
    "# Run the following code in R to convert h5ad to h5seurat which Seurat handles\n",
    "# Check current directory first\n",
    "# library(SeuratDisk)\n",
    "# tissues <- c('Bladder', 'Kidney', 'Limb_Muscle', 'Liver', 'Lung', 'Mammary_Gland', 'Marrow', \n",
    "#              'Spleen', 'Thymus', 'Tongue', 'Trachea')\n",
    "# for (tissue in tissues){\n",
    "#     Convert(paste('TM_', tissue, '.h5ad', sep = ''), 'h5seurat', overwrite = TRUE)\n",
    "# }"
   ]
  }
 ],
 "metadata": {
  "kernelspec": {
   "display_name": "Python 3",
   "language": "python",
   "name": "python3"
  },
  "language_info": {
   "codemirror_mode": {
    "name": "ipython",
    "version": 3
   },
   "file_extension": ".py",
   "mimetype": "text/x-python",
   "name": "python",
   "nbconvert_exporter": "python",
   "pygments_lexer": "ipython3",
   "version": "3.8.8"
  }
 },
 "nbformat": 4,
 "nbformat_minor": 5
}
