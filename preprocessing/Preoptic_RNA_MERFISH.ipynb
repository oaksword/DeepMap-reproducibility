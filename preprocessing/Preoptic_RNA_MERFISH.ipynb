{
 "cells": [
  {
   "cell_type": "markdown",
   "id": "085aabf7-383b-4198-882e-df68ada1e2bd",
   "metadata": {},
   "source": [
    "# Download\n",
    "\n",
    "- RNA (10X) dataset \n",
    "    - counts https://www.ncbi.nlm.nih.gov/geo/query/acc.cgi?acc=GSE113576\n",
    "    - annotations https://www.ncbi.nlm.nih.gov/pmc/articles/PMC6482113/bin/NIHMS1024025-supplement-Table_S1.xlsx\n",
    "\n",
    "\n",
    "- MERFISH dataset https://datadryad.org/stash/dataset/doi:10.5061/dryad.8t8s248\n",
    "\n",
    "# Preprocess"
   ]
  },
  {
   "cell_type": "code",
   "execution_count": 1,
   "id": "1a1816f2-c03c-441b-9689-9a87bbd9ae0b",
   "metadata": {},
   "outputs": [],
   "source": [
    "import scanpy as sc\n",
    "import pandas as pd\n",
    "import numpy as np"
   ]
  },
  {
   "cell_type": "code",
   "execution_count": 2,
   "id": "fff693ca-b1ad-4d1c-8356-21a1752445e9",
   "metadata": {},
   "outputs": [
    {
     "name": "stderr",
     "output_type": "stream",
     "text": [
      "<ipython-input-2-4509f67aea2d>:18: SettingWithCopyWarning: \n",
      "A value is trying to be set on a copy of a slice from a DataFrame.\n",
      "Try using .loc[row_indexer,col_indexer] = value instead\n",
      "\n",
      "See the caveats in the documentation: https://pandas.pydata.org/pandas-docs/stable/user_guide/indexing.html#returning-a-view-versus-a-copy\n",
      "  adata_merfish.obs['batch'] = 'MERFISH'\n",
      "/home/ecnu/anaconda3/envs/sword/lib/python3.8/site-packages/anndata/_core/anndata.py:1228: ImplicitModificationWarning: Initializing view as actual.\n",
      "  warnings.warn(\n",
      "Trying to set attribute `.obs` of view, copying.\n",
      "... storing 'celltype' as categorical\n",
      "Trying to set attribute `.obs` of view, copying.\n",
      "... storing 'batch' as categorical\n"
     ]
    }
   ],
   "source": [
    "adata_rna = sc.read_10x_mtx('../datasets/raw/Preoptic_RNA_MERFISH/RNA')\n",
    "sc.pp.filter_cells(adata_rna, min_genes = 200)\n",
    "sc.pp.filter_genes(adata_rna, min_cells = 3)\n",
    "\n",
    "meta_rna = pd.read_excel('../datasets/raw/Preoptic_RNA_MERFISH/NIHMS1024025-supplement-Table_S1.xlsx',\n",
    "                         index_col = 0, header = 1)\n",
    "adata_rna.obs = meta_rna.loc[adata_rna.obs.index, ['Replicate number', 'Cell class (determined from clustering of all cells)']]\n",
    "adata_rna.obs.columns = ['replicate', 'celltype']\n",
    "adata_rna.obs['batch'] = 'RNA'\n",
    "\n",
    "data_merfish = pd.read_csv('../datasets/raw/Preoptic_RNA_MERFISH/MERFISH/Moffitt_and_Bambah-Mukku_et_al_merfish_all_cells.csv',\n",
    "                           index_col = 0)\n",
    "adata_merfish = sc.AnnData(data_merfish.iloc[:, 8:])\n",
    "adata_merfish = adata_merfish[:, True ^ np.isnan(adata_merfish.X.sum(axis = 0))]\n",
    "adata_merfish.obs = data_merfish[['Animal_ID', 'Cell_class']]\n",
    "adata_merfish.obs.index = data_merfish.index\n",
    "adata_merfish.obs.columns = ['animal', 'celltype']\n",
    "adata_merfish.obs['batch'] = 'MERFISH'\n",
    "\n",
    "adata = sc.concat((adata_rna, adata_merfish[adata_merfish.obs.animal == 1]))\n",
    "adata = adata[adata.obs.celltype != 'Ambiguous']\n",
    "adata = adata[adata.obs.celltype != 'Unstable']\n",
    "adata = adata[adata.X.sum(axis = 1) > 0]\n",
    "\n",
    "adata.obs.celltype[adata.obs.celltype == 'Astrocytes'] = 'Astrocyte'\n",
    "adata.obs.celltype[adata.obs.celltype == 'Endothelial 1'] = 'Endothelial'\n",
    "adata.obs.celltype[adata.obs.celltype == 'Endothelial 2'] = 'Endothelial'\n",
    "adata.obs.celltype[adata.obs.celltype == 'Endothelial 3'] = 'Endothelial'\n",
    "adata.obs.celltype[adata.obs.celltype == 'Immature oligodendrocyte'] = 'OD Immature'\n",
    "adata.obs.celltype[adata.obs.celltype == 'Mature oligodendrocyte'] = 'OD Mature'\n",
    "adata.obs.celltype[adata.obs.celltype == 'Newly formed oligodendrocyte'] = 'Newly formed'\n",
    "adata.obs.celltype[adata.obs.celltype == 'OD Immature 1'] = 'OD Immature'\n",
    "adata.obs.celltype[adata.obs.celltype == 'OD Immature 2'] = 'OD Immature'\n",
    "adata.obs.celltype[adata.obs.celltype == 'OD Mature 1'] = 'OD Mature'\n",
    "adata.obs.celltype[adata.obs.celltype == 'OD Mature 2'] = 'OD Mature'\n",
    "adata.obs.celltype[adata.obs.celltype == 'OD Mature 3'] = 'OD Mature'\n",
    "adata.obs.celltype[adata.obs.celltype == 'OD Mature 4'] = 'OD Mature'\n",
    "\n",
    "adata.write('../datasets/preprocessed/Preoptic_RNA_MERFISH.h5ad')"
   ]
  },
  {
   "cell_type": "code",
   "execution_count": 3,
   "id": "071b6ada-ac9b-4fba-be35-21cd14a84b48",
   "metadata": {},
   "outputs": [],
   "source": [
    "# Run the following code in R to convert h5ad to h5seurat which Seurat handles\n",
    "# Check current directory first\n",
    "# library(SeuratDisk)\n",
    "# Convert('Preoptic_RNA_MERFISH.h5ad', 'h5seurat')"
   ]
  }
 ],
 "metadata": {
  "kernelspec": {
   "display_name": "Python 3",
   "language": "python",
   "name": "python3"
  },
  "language_info": {
   "codemirror_mode": {
    "name": "ipython",
    "version": 3
   },
   "file_extension": ".py",
   "mimetype": "text/x-python",
   "name": "python",
   "nbconvert_exporter": "python",
   "pygments_lexer": "ipython3",
   "version": "3.8.8"
  }
 },
 "nbformat": 4,
 "nbformat_minor": 5
}
