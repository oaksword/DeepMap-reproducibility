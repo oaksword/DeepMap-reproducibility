{
 "cells": [
  {
   "cell_type": "markdown",
   "id": "39352255-8347-4a75-b74c-2724c966a252",
   "metadata": {},
   "source": [
    "# Download\n",
    "\n",
    "The raw datasets are available for download from GSE109037 (human) and GSE109033 (mouse). In order to reproduce the results, it is advisable to ensure that the folders for both human and mouse datasets contain the following files: `barcodes.tsv`, `genes.tsv`, and `matrix.mtx`.\n",
    "\n",
    "# Preprocess"
   ]
  },
  {
   "cell_type": "code",
   "execution_count": null,
   "id": "76ec8daa-2be4-4bc4-9d86-07ca82046e9c",
   "metadata": {},
   "outputs": [],
   "source": [
    "import numpy as np\n",
    "import pandas as pd\n",
    "import scanpy as sc"
   ]
  },
  {
   "cell_type": "code",
   "execution_count": null,
   "id": "f466671d-1d61-4cd1-b1c0-bab3c7fb8c91",
   "metadata": {},
   "outputs": [],
   "source": [
    "adata_human = sc.read_10x_mtx('../datasets/raw/Sperm/human')\n",
    "adata_mouse = sc.read_10x_mtx('../datasets/raw/Sperm/mouse')\n",
    "\n",
    "adata_human.obs.index = ['human.' + item.split('-')[0] + '.' + item.split('-')[1] for item in adata_human.obs.index]\n",
    "adata_mouse.obs.index = ['mouse.' + item.split('-')[0] + '.' + item.split('-')[1] for item in adata_mouse.obs.index]\n",
    "\n",
    "anno_human = pd.read_csv('../datasets/raw/Sperm/human_cell_type.csv', index_col = 0)\n",
    "anno_mouse = pd.read_csv('../datasets/raw/Sperm/mouse_cell_type.csv', index_col = 0)\n",
    "\n",
    "anno_human.rename(columns = {'x': 'celltype'}, inplace = True)\n",
    "anno_mouse.rename(columns = {'x': 'celltype'}, inplace = True)\n",
    "\n",
    "anno_human.index = ['.'.join(item.split('-')) for item in anno_human.index]\n",
    "anno_mouse.index = ['.'.join(item.split('-')) for item in anno_mouse.index]\n",
    "\n",
    "adata_human.obs = anno_human.loc[adata_human.obs.index]\n",
    "adata_mouse.obs = anno_mouse.loc[adata_mouse.obs.index]\n",
    "\n",
    "adata_human.obs['batch'] = 'human'\n",
    "adata_mouse.obs['batch'] = 'mouse'\n",
    "\n",
    "adata_full = sc.concat((adata_human, adata_mouse))\n",
    "adata_full.obs.celltype = [item.lower() for item in adata_full.obs.celltype]\n",
    "\n",
    "adata_full.write('../datasets/preprocessed/Sperm_human_mouse.h5ad')"
   ]
  },
  {
   "cell_type": "code",
   "execution_count": null,
   "id": "8703d049-63ff-4132-994d-78516f9282e3",
   "metadata": {},
   "outputs": [],
   "source": [
    "# Run the following code in R to convert h5ad to h5seurat which Seurat handles\n",
    "# Check current directory first\n",
    "# library(SeuratDisk)\n",
    "# Convert('Sperm_human_mouse.h5ad', 'h5seurat')"
   ]
  }
 ],
 "metadata": {
  "kernelspec": {
   "display_name": "Python 3",
   "language": "python",
   "name": "python3"
  },
  "language_info": {
   "codemirror_mode": {
    "name": "ipython",
    "version": 3
   },
   "file_extension": ".py",
   "mimetype": "text/x-python",
   "name": "python",
   "nbconvert_exporter": "python",
   "pygments_lexer": "ipython3",
   "version": "3.8.8"
  }
 },
 "nbformat": 4,
 "nbformat_minor": 5
}
